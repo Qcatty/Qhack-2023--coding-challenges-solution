{
 "cells": [
  {
   "cell_type": "code",
   "execution_count": 140,
   "id": "e648e053-9eb9-4c05-9373-c36ac549925c",
   "metadata": {},
   "outputs": [],
   "source": [
    "import json\n",
    "import pennylane as qml\n",
    "import pennylane.numpy as np"
   ]
  },
  {
   "cell_type": "code",
   "execution_count": 141,
   "id": "98fc7fa2-c5b7-4c90-9a93-d998048edd43",
   "metadata": {},
   "outputs": [],
   "source": [
    "def create_Hamiltonian(h):\n",
    "    \"\"\"\n",
    "    Function in charge of generating the Hamiltonian of the statement.\n",
    "\n",
    "    Args:\n",
    "        h (float): magnetic field strength\n",
    "\n",
    "    Returns:\n",
    "        (qml.Hamiltonian): Hamiltonian of the statement associated to h\n",
    "    \"\"\"\n",
    "    #hamiltonian=0\n",
    "    coefs=[]\n",
    "    obs=[]\n",
    "    for i in range(4):\n",
    "        obs.append(qml.PauliX(i))\n",
    "        coefs.append(-h)\n",
    "        \n",
    "    for i in range(4):\n",
    "        obs.append(qml.PauliZ(i)@qml.PauliZ((i+1)%4))\n",
    "        coefs.append(-1)\n",
    "        \n",
    "    hamiltonian=qml.Hamiltonian(coefs, obs)\n",
    "        \n",
    "    return hamiltonian"
   ]
  },
  {
   "cell_type": "code",
   "execution_count": 147,
   "id": "a259f9e1-b2d8-4b6e-9561-d1fdee15a778",
   "metadata": {},
   "outputs": [],
   "source": [
    "dev = qml.device(\"default.qubit\", wires=4)\n",
    "\n",
    "@qml.qnode(dev)\n",
    "def model(params, H):\n",
    "    \"\"\"\n",
    "    To implement VQE you need an ansatz for the candidate ground state!\n",
    "    Define here the VQE ansatz in terms of some parameters (params) that\n",
    "    create the candidate ground state. These parameters will\n",
    "    be optimized later.\n",
    "\n",
    "    Args:\n",
    "        params (numpy.array): parameters to be used in the variational circuit\n",
    "        H (qml.Hamiltonian): Hamiltonian used to calculate the expected value\n",
    "\n",
    "    Returns:\n",
    "        (float): Expected value with respect to the Hamiltonian H\n",
    "    \"\"\"\n",
    "    layers=4\n",
    "\n",
    "    for i in range(layers):\n",
    "        for j in range(4):\n",
    "            qml.RX(params[i*2*4+2*j],wires=j)\n",
    "            qml.RZ(params[i*2*4+2*j+1],wires=j)\n",
    "        for j in range(4):\n",
    "            qml.CNOT(wires=[j,(j+1)%4])\n",
    "    for j in range(4):\n",
    "        qml.RX(params[4*2*layers+2*j],wires=j)\n",
    "        qml.RZ(params[4*2*layers+2*j],wires=j)\n",
    "        \n",
    "    return qml.expval(H)"
   ]
  },
  {
   "cell_type": "code",
   "execution_count": 145,
   "id": "0be73bf1-43b0-45d4-8107-a934b38ed15d",
   "metadata": {},
   "outputs": [],
   "source": [
    "def train(h):\n",
    "    \"\"\"\n",
    "    In this function you must design a subroutine that returns the\n",
    "    parameters that best approximate the ground state.\n",
    "\n",
    "    Args:\n",
    "        h (float): magnetic field strength\n",
    "\n",
    "    Returns:\n",
    "        (numpy.array): parameters that best approximate the ground state.\n",
    "    \"\"\"\n",
    "    params = np.random.normal(0, np.pi, (4+1)*4*2, requires_grad=True)\n",
    "    opt = qml.AdamOptimizer(0.5)#qml.AdamOptimizer(0.3)#qml.optimize.NesterovMomentumOptimizer(0.5)#qml.AdamOptimizer(0.5)\n",
    "    H=create_Hamiltonian(h)\n",
    "    for j in range(300):\n",
    "        params,_ = opt.step(model, params, H)\n",
    "    return params\n",
    "    "
   ]
  },
  {
   "cell_type": "code",
   "execution_count": 149,
   "id": "1001c602-b04f-40a5-91e7-509c3133e014",
   "metadata": {},
   "outputs": [],
   "source": [
    "# These functions are responsible for testing the solution.\n",
    "def run(test_case_input: str) -> str:\n",
    "    ins = json.loads(test_case_input)\n",
    "    params = train(ins)\n",
    "    return str(model(params, create_Hamiltonian(ins)))\n",
    "\n",
    "\n",
    "def check(solution_output: str, expected_output: str) -> None:\n",
    "    solution_output = json.loads(solution_output)\n",
    "    expected_output = json.loads(expected_output)\n",
    "    assert np.allclose(\n",
    "        solution_output, expected_output, rtol=1e-1\n",
    "    ), \"The expected value is not correct.\"\n"
   ]
  },
  {
   "cell_type": "code",
   "execution_count": 150,
   "id": "84c3d235-cf9f-42c8-8767-6228e4e0306e",
   "metadata": {},
   "outputs": [],
   "source": [
    "test_cases = [['1.0', '-5.226251859505506'], ['2.3', '-9.66382463698038']]"
   ]
  },
  {
   "cell_type": "code",
   "execution_count": 151,
   "id": "d26cc534-692d-463f-937f-4a4dcbd2838a",
   "metadata": {},
   "outputs": [
    {
     "name": "stdout",
     "output_type": "stream",
     "text": [
      "Running test case 0 with input '1.0'...\n",
      "Correct!\n",
      "Running test case 1 with input '2.3'...\n",
      "Correct!\n"
     ]
    }
   ],
   "source": [
    "for i, (input_, expected_output) in enumerate(test_cases):\n",
    "    print(f\"Running test case {i} with input '{input_}'...\")\n",
    "\n",
    "    try:\n",
    "        output = run(input_)\n",
    "\n",
    "    except Exception as exc:\n",
    "        print(f\"Runtime Error. {exc}\")\n",
    "\n",
    "    else:\n",
    "        if message := check(output, expected_output):\n",
    "            print(f\"Wrong Answer. Have: '{output}'. Want: '{expected_output}'.\")\n",
    "\n",
    "        else:\n",
    "            print(\"Correct!\")"
   ]
  },
  {
   "cell_type": "code",
   "execution_count": 148,
   "id": "7ff826ae-0c5a-4df4-bd97-3f904b6586c1",
   "metadata": {},
   "outputs": [
    {
     "data": {
      "text/plain": [
       "tensor(-9.63869428, requires_grad=True)"
      ]
     },
     "execution_count": 148,
     "metadata": {},
     "output_type": "execute_result"
    }
   ],
   "source": [
    "h=2.3\n",
    "params=train(h)\n",
    "H=create_Hamiltonian(h)\n",
    "model(params, H)"
   ]
  },
  {
   "cell_type": "code",
   "execution_count": 67,
   "id": "65443d62-517f-4852-8855-ccb5032c124b",
   "metadata": {},
   "outputs": [
    {
     "name": "stdout",
     "output_type": "stream",
     "text": [
      "  (-1.0) [X0]\n",
      "+ (-1.0) [X1]\n",
      "+ (-1.0) [X2]\n",
      "+ (-1.0) [X3]\n",
      "+ (-1) [Z0 Z1]\n",
      "+ (-1) [Z1 Z2]\n",
      "+ (-1) [Z2 Z3]\n",
      "+ (-1) [Z3 Z0]\n"
     ]
    }
   ],
   "source": [
    "create_Hamiltonian(h)"
   ]
  },
  {
   "cell_type": "code",
   "execution_count": 70,
   "id": "1c5a394e-f5c8-4b4d-aa1b-24f1a83beb7e",
   "metadata": {},
   "outputs": [
    {
     "name": "stdout",
     "output_type": "stream",
     "text": [
      "params' len: 16\n",
      "0\n",
      "1\n",
      "2\n",
      "3\n",
      "4\n",
      "5\n",
      "6\n",
      "7\n",
      "8\n",
      "9\n",
      "10\n",
      "11\n",
      "12\n",
      "13\n",
      "14\n",
      "15\n"
     ]
    },
    {
     "data": {
      "text/plain": [
       "tensor(0.9177024, requires_grad=True)"
      ]
     },
     "execution_count": 70,
     "metadata": {},
     "output_type": "execute_result"
    }
   ],
   "source": [
    "h=1.0\n",
    "weights = np.random.normal(0, np.pi, 2*2*4, requires_grad=True)\n",
    "H=create_Hamiltonian(h)\n",
    "model(weights, H)"
   ]
  }
 ],
 "metadata": {
  "kernelspec": {
   "display_name": "PennyLane",
   "language": "python",
   "name": "pennylane"
  },
  "language_info": {
   "codemirror_mode": {
    "name": "ipython",
    "version": 3
   },
   "file_extension": ".py",
   "mimetype": "text/x-python",
   "name": "python",
   "nbconvert_exporter": "python",
   "pygments_lexer": "ipython3",
   "version": "3.9.15"
  }
 },
 "nbformat": 4,
 "nbformat_minor": 5
}
