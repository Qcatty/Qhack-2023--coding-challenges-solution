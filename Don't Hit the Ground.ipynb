{
 "cells": [
  {
   "cell_type": "code",
   "execution_count": 64,
   "id": "cc4547e9-597c-4498-a604-78ab67a1e96b",
   "metadata": {},
   "outputs": [],
   "source": [
    "import json\n",
    "import pennylane as qml\n",
    "import pennylane.numpy as np"
   ]
  },
  {
   "cell_type": "code",
   "execution_count": 89,
   "id": "39f8695a-49ab-4d23-a255-04b3a86f8653",
   "metadata": {},
   "outputs": [],
   "source": [
    "def half_life(gamma, p):\n",
    "    \"\"\"Calculates the relaxation half-life of a quantum system that exchanges energy with its environment.\n",
    "    This process is modeled via Generalized Amplitude Damping.\n",
    "\n",
    "    Args:\n",
    "        gamma (float): \n",
    "            The probability per unit time of the system losing a quantum of energy\n",
    "            to the environment.\n",
    "        p (float): The de-excitation probability due to environmental effect\n",
    "\n",
    "    Returns:\n",
    "        (float): The relaxation haf-life of the system, as explained in the problem statement.\n",
    "    \"\"\"\n",
    "\n",
    "    num_wires = 1\n",
    "\n",
    "    dev = qml.device(\"default.mixed\", wires=num_wires)\n",
    "    \n",
    "        # Feel free to write helper functions or global variables here\n",
    "\n",
    "    @qml.qnode(dev)\n",
    "    def noise(\n",
    "        gamma,p,steps,dt=0.1 # add optional parameters, delete if you don't need any\n",
    "    ):\n",
    "        \"\"\"Implement the sequence of Generalized Amplitude Damping channels in this QNode\n",
    "        You may pass instead of return if you solved this problem analytically, it's possible!\n",
    "\n",
    "        Args:\n",
    "            gamma (float): The probability per unit time of the system losing a quantum of energy\n",
    "            to the environment.\n",
    "        \n",
    "        Returns:\n",
    "            (float): The relaxation half-life.\n",
    "        \"\"\"\n",
    "        qml.QubitStateVector([1/np.sqrt(2),1/np.sqrt(2)], wires=[0])\n",
    "        for i in range(steps):\n",
    "            qml.GeneralizedAmplitudeDamping(gamma*dt, p, wires=[0])\n",
    "        return qml.probs(wires=[0])\n",
    "        \n",
    "        # Don't forget to initialize the state\n",
    "        # Put your code here #\n",
    "\n",
    "        # Return something or pass if you solved this analytically!\n",
    "    dt=0.1\n",
    "    steps=1\n",
    "    prob=noise(gamma,p,steps)\n",
    "    while prob[1] > 0.25:\n",
    "        prob=noise(gamma,p,steps)\n",
    "        #print(prob[1])\n",
    "        steps=steps+1\n",
    "\n",
    "    # Write any subroutines you may need to find the relaxation time here\n",
    "    return dt*steps\n",
    "    # Return the relaxation half-life"
   ]
  },
  {
   "cell_type": "code",
   "execution_count": 90,
   "id": "ab69ed6a-ac99-47bc-a9d2-1e88c541344d",
   "metadata": {},
   "outputs": [],
   "source": [
    "# These functions are responsible for testing the solution.\n",
    "def run(test_case_input: str) -> str:\n",
    "\n",
    "    ins = json.loads(test_case_input)\n",
    "    output = half_life(*ins)\n",
    "\n",
    "    return str(output)\n",
    "\n",
    "def check(solution_output: str, expected_output: str) -> None:\n",
    "    solution_output = json.loads(solution_output)\n",
    "    expected_output = json.loads(expected_output)\n",
    "    assert np.allclose(\n",
    "        solution_output, expected_output, atol=2e-1\n",
    "    ), \"The relaxation half-life is not quite right.\""
   ]
  },
  {
   "cell_type": "code",
   "execution_count": 91,
   "id": "30123f3f-22e6-4926-a51d-e3604cd2e7c2",
   "metadata": {},
   "outputs": [],
   "source": [
    "test_cases = [['[0.1,0.92]', '9.05'], ['[0.2,0.83]', '7.09']]"
   ]
  },
  {
   "cell_type": "code",
   "execution_count": 92,
   "id": "a881c49a-fc20-48a5-8be0-87d242c3278e",
   "metadata": {},
   "outputs": [
    {
     "name": "stdout",
     "output_type": "stream",
     "text": [
      "Running test case 0 with input '[0.1,0.92]'...\n",
      "Correct!\n",
      "Running test case 1 with input '[0.2,0.83]'...\n",
      "Correct!\n"
     ]
    }
   ],
   "source": [
    "for i, (input_, expected_output) in enumerate(test_cases):\n",
    "    print(f\"Running test case {i} with input '{input_}'...\")\n",
    "\n",
    "    try:\n",
    "        output = run(input_)\n",
    "\n",
    "    except Exception as exc:\n",
    "        print(f\"Runtime Error. {exc}\")\n",
    "\n",
    "    else:\n",
    "        if message := check(output, expected_output):\n",
    "            print(f\"Wrong Answer. Have: '{output}'. Want: '{expected_output}'.\")\n",
    "\n",
    "        else:\n",
    "            print(\"Correct!\")"
   ]
  },
  {
   "cell_type": "code",
   "execution_count": 88,
   "id": "251d51cd-3aba-4aee-acd7-e585aa866a13",
   "metadata": {},
   "outputs": [
    {
     "name": "stdout",
     "output_type": "stream",
     "text": [
      "0.4958000000000145\n",
      "0.4916420000000289\n",
      "0.48752558000004304\n",
      "0.48345032420005696\n",
      "0.47941582095807056\n",
      "0.47542166274850395\n",
      "0.4714674461210329\n",
      "0.4675527716598365\n",
      "0.46367724394325194\n",
      "0.45984047150383317\n",
      "0.4560420667888085\n",
      "0.4522816461209339\n",
      "0.44855882965973803\n",
      "0.44487324136315404\n",
      "0.44122450894953574\n",
      "0.43761226386005353\n",
      "0.43403614122146605\n",
      "0.43049577980926446\n",
      "0.42699082201118477\n",
      "0.42352091379108575\n",
      "0.42008570465318773\n",
      "0.4166848476066686\n",
      "0.41331799913061457\n",
      "0.409984819139321\n",
      "0.4066849709479402\n",
      "0.4034181212384732\n",
      "0.40018394002610075\n",
      "0.39698210062585193\n",
      "0.3938122796196056\n",
      "0.39067415682342166\n",
      "0.38756741525519944\n",
      "0.3844917411026594\n",
      "0.3814468236916447\n",
      "0.37843235545473997\n",
      "0.37544803190020437\n",
      "0.372493551581214\n",
      "0.36956861606541347\n",
      "0.3666729299047709\n",
      "0.3638062006057347\n",
      "0.3609681385996888\n",
      "0.3581584572137032\n",
      "0.35537687264157747\n",
      "0.3526231039151729\n",
      "0.3498968728760323\n",
      "0.34719790414728313\n",
      "0.34452592510582136\n",
      "0.3418806658547742\n",
      "0.3392618591962374\n",
      "0.33666924060428594\n",
      "0.33410254819825397\n",
      "0.3315615227162822\n",
      "0.3290459074891301\n",
      "0.32655544841424944\n",
      "0.32408989393011756\n",
      "0.32164899499082694\n",
      "0.3192325050409292\n",
      "0.31684017999053027\n",
      "0.3144717781906354\n",
      "0.3121270604087394\n",
      "0.3098057898046623\n",
      "0.3075077319066259\n",
      "0.3052326545875699\n",
      "0.3029803280417043\n",
      "0.3007505247612974\n",
      "0.29854301951369444\n",
      "0.2963575893185675\n",
      "0.2941940134253918\n",
      "0.2920520732911478\n",
      "0.2899315525582462\n",
      "0.2878322370326735\n",
      "0.28575391466235656\n",
      "0.2836963755157427\n",
      "0.28165941176059506\n",
      "0.2796428176429988\n",
      "0.2776463894665785\n",
      "0.2756699255719223\n",
      "0.27371322631621264\n",
      "0.27177609405305997\n",
      "0.2698583331125389\n",
      "0.2679597497814229\n",
      "0.2660801522836181\n",
      "0.2642193507607913\n",
      "0.2623771572531927\n",
      "0.26055338568067005\n",
      "0.2587478518238726\n",
      "0.2569603733056431\n",
      "0.25519076957259584\n",
      "0.25343886187687903\n",
      "0.25170447325811934\n",
      "0.24998742852554723\n"
     ]
    },
    {
     "data": {
      "text/plain": [
       "9.1"
      ]
     },
     "execution_count": 88,
     "metadata": {},
     "output_type": "execute_result"
    }
   ],
   "source": [
    "half_life(0.1, 0.92)"
   ]
  },
  {
   "cell_type": "code",
   "execution_count": 77,
   "id": "c63b5095-d351-4b6f-8ae5-25dbe3e1e08d",
   "metadata": {},
   "outputs": [],
   "source": [
    "num_wires=1\n",
    "dev = qml.device(\"default.mixed\", wires=num_wires)\n",
    "\n",
    "    # Feel free to write helper functions or global variables here\n",
    "\n",
    "@qml.qnode(dev)\n",
    "def noise(\n",
    "    gamma,p,steps,dt=0.2  # add optional parameters, delete if you don't need any\n",
    "):\n",
    "    \"\"\"Implement the sequence of Generalized Amplitude Damping channels in this QNode\n",
    "    You may pass instead of return if you solved this problem analytically, it's possible!\n",
    "\n",
    "    Args:\n",
    "        gamma (float): The probability per unit time of the system losing a quantum of energy\n",
    "        to the environment.\n",
    "\n",
    "    Returns:\n",
    "        (float): The relaxation half-life.\n",
    "    \"\"\"\n",
    "    qml.QubitStateVector([1/np.sqrt(2),1/np.sqrt(2)], wires=[0])\n",
    "\n",
    "    for i in range(steps):\n",
    "        qml.GeneralizedAmplitudeDamping(gamma*dt, p, wires=[0])\n",
    "\n",
    "    return qml.probs(wires=[0])"
   ]
  },
  {
   "cell_type": "code",
   "execution_count": 80,
   "id": "f4499278-40c9-44db-8f9d-4ac961f1140e",
   "metadata": {},
   "outputs": [
    {
     "data": {
      "text/plain": [
       "array([0.7507913, 0.2492087])"
      ]
     },
     "execution_count": 80,
     "metadata": {},
     "output_type": "execute_result"
    }
   ],
   "source": [
    "noise(0.1,0.92,45 )"
   ]
  },
  {
   "cell_type": "code",
   "execution_count": 61,
   "id": "4d620ff7-ea23-40e0-b86f-e37f707930cf",
   "metadata": {},
   "outputs": [
    {
     "data": {
      "text/plain": [
       "array([0.91998884, 0.08001116])"
      ]
     },
     "execution_count": 61,
     "metadata": {},
     "output_type": "execute_result"
    }
   ],
   "source": [
    "noise(0.1,0.92,100 )"
   ]
  },
  {
   "cell_type": "code",
   "execution_count": null,
   "id": "cb71f2ea-564f-4d7e-9d8a-46d848ca2691",
   "metadata": {},
   "outputs": [],
   "source": []
  }
 ],
 "metadata": {
  "kernelspec": {
   "display_name": "PennyLane",
   "language": "python",
   "name": "pennylane"
  },
  "language_info": {
   "codemirror_mode": {
    "name": "ipython",
    "version": 3
   },
   "file_extension": ".py",
   "mimetype": "text/x-python",
   "name": "python",
   "nbconvert_exporter": "python",
   "pygments_lexer": "ipython3",
   "version": "3.9.15"
  }
 },
 "nbformat": 4,
 "nbformat_minor": 5
}
