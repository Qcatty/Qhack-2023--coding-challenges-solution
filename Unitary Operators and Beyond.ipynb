{
 "cells": [
  {
   "cell_type": "code",
   "execution_count": 5,
   "id": "4723dfc9-36bd-4453-bfed-055aba14b137",
   "metadata": {},
   "outputs": [],
   "source": [
    "import json\n",
    "import pennylane as qml\n",
    "import pennylane.numpy as np"
   ]
  },
  {
   "cell_type": "code",
   "execution_count": 6,
   "id": "c739b29b-3e07-4c31-8ea4-6e29631695dc",
   "metadata": {},
   "outputs": [],
   "source": [
    "def W(alpha, beta):\n",
    "    \"\"\" This function returns the matrix W in terms of\n",
    "    the coefficients alpha and beta\n",
    "\n",
    "    Args:\n",
    "        - alpha (float): The prefactor alpha of U in the linear combination, as in the\n",
    "        challenge statement.\n",
    "        - beta (float): The prefactor beta of V in the linear combination, as in the\n",
    "        challenge statement.\n",
    "    Returns \n",
    "        -(numpy.ndarray): A 2x2 matrix representing the operator W,\n",
    "        as defined in the challenge statement\n",
    "    \"\"\"\n",
    "    de_numurator=np.sqrt(alpha+beta)\n",
    "    sqrt_alpha=np.sqrt(alpha)\n",
    "    sqrt_beta=np.sqrt(beta)\n",
    "    return np.array([[sqrt_alpha,-sqrt_beta],[sqrt_beta,sqrt_alpha]])/de_numurator\n",
    "    "
   ]
  },
  {
   "cell_type": "code",
   "execution_count": 16,
   "id": "beca9e93-a015-4933-b70c-ee137857d007",
   "metadata": {},
   "outputs": [],
   "source": [
    "dev = qml.device('default.qubit', wires = 2)\n",
    "\n",
    "@qml.qnode(dev)\n",
    "def linear_combination(U, V,  alpha, beta):\n",
    "    \"\"\"This circuit implements the circuit that probabilistically calculates the linear combination \n",
    "    of the unitaries.\n",
    "\n",
    "    Args:\n",
    "        - U (list(list(float))): A 2x2 matrix representing the single-qubit unitary operator U.\n",
    "        - V (list(list(float))): A 2x2 matrix representing the single-qubit unitary operator U.\n",
    "        - alpha (float): The prefactor alpha of U in the linear combination, as above.\n",
    "        - beta (float): The prefactor beta of V in the linear combination, as above.\n",
    "\n",
    "    Returns:\n",
    "        -(numpy.tensor): Probabilities of measuring the computational\n",
    "        basis states on the auxiliary wire. \n",
    "    \"\"\"\n",
    "    U=np.array(U)\n",
    "    V=np.array(V)\n",
    "    #qml.ArbitraryUnitary(W(alpha, beta),wires=[0])\n",
    "    qml.QubitUnitary(W(alpha, beta),wires=0)\n",
    "    qml.ControlledQubitUnitary(U, control_wires=0, wires=1)\n",
    "    qml.X(wires=0)\n",
    "    qml.ControlledQubitUnitary(V, control_wires=0, wires=1)\n",
    "    qml.X(wires=0)\n",
    "    W_dagger=np.conjugate(np.transpose(W(alpha, beta)))\n",
    "    qml.QubitUnitary(W_dagger,wires=0)\n",
    "    #qml.ArbitraryUnitary(W_dagger,wires=0)\n",
    "    return qml.probs(wires=[0])\n",
    "    \n",
    "    "
   ]
  },
  {
   "cell_type": "code",
   "execution_count": 18,
   "id": "c2dd10bb-c541-4033-b43c-58bf4a1c4c56",
   "metadata": {},
   "outputs": [],
   "source": [
    "# These functions are responsible for testing the solution.\n",
    "\n",
    "def run(test_case_input: str) -> str:\n",
    "    dev = qml.device('default.qubit', wires = 2)\n",
    "    ins = json.loads(test_case_input)\n",
    "    output = linear_combination(*ins)[0].numpy()\n",
    "\n",
    "    return str(output)\n",
    "\n",
    "def check(solution_output: str, expected_output: str) -> None:\n",
    "    solution_output = json.loads(solution_output)\n",
    "    expected_output = json.loads(expected_output)\n",
    "    assert np.allclose(\n",
    "        solution_output, expected_output, rtol=1e-4\n",
    "    ), \"Your circuit doesn't look quite right \""
   ]
  },
  {
   "cell_type": "code",
   "execution_count": 19,
   "id": "44a25fe5-dadb-407f-915f-14e90a310757",
   "metadata": {},
   "outputs": [],
   "source": [
    "test_cases = [['[[[ 0.70710678,  0.70710678], [ 0.70710678, -0.70710678]],[[1, 0], [0, -1]], 1, 3]', '0.8901650422902458']]"
   ]
  },
  {
   "cell_type": "code",
   "execution_count": 20,
   "id": "71eacb3a-4453-4eaa-acec-7a1aa6335d38",
   "metadata": {},
   "outputs": [
    {
     "name": "stdout",
     "output_type": "stream",
     "text": [
      "Running test case 0 with input '[[[ 0.70710678,  0.70710678], [ 0.70710678, -0.70710678]],[[1, 0], [0, -1]], 1, 3]'...\n",
      "Correct!\n"
     ]
    }
   ],
   "source": [
    "for i, (input_, expected_output) in enumerate(test_cases):\n",
    "    print(f\"Running test case {i} with input '{input_}'...\")\n",
    "\n",
    "    try:\n",
    "        output = run(input_)\n",
    "\n",
    "    except Exception as exc:\n",
    "        print(f\"Runtime Error. {exc}\")\n",
    "\n",
    "    else:\n",
    "        if message := check(output, expected_output):\n",
    "            print(f\"Wrong Answer. Have: '{output}'. Want: '{expected_output}'.\")\n",
    "\n",
    "        else:\n",
    "            print(\"Correct!\")"
   ]
  },
  {
   "cell_type": "code",
   "execution_count": 11,
   "id": "fdf5c7ed-2c97-4587-a42c-9f53773e83b2",
   "metadata": {},
   "outputs": [
    {
     "data": {
      "text/plain": [
       "tensor([[ 0.5      , -0.8660254],\n",
       "        [ 0.8660254,  0.5      ]], requires_grad=True)"
      ]
     },
     "execution_count": 11,
     "metadata": {},
     "output_type": "execute_result"
    }
   ],
   "source": [
    "W(1, 3)"
   ]
  },
  {
   "cell_type": "code",
   "execution_count": 17,
   "id": "cc2a6145-e595-4830-b97a-3287a3082bde",
   "metadata": {},
   "outputs": [
    {
     "data": {
      "text/plain": [
       "tensor([0.89016504, 0.10983496], requires_grad=True)"
      ]
     },
     "execution_count": 17,
     "metadata": {},
     "output_type": "execute_result"
    }
   ],
   "source": [
    "U=[[ 0.70710678,  0.70710678], [ 0.70710678, -0.70710678]]\n",
    "V=[[1, 0], [0, -1]]\n",
    "\n",
    "linear_combination(U, V,  1, 3)"
   ]
  },
  {
   "cell_type": "code",
   "execution_count": null,
   "id": "b799c064-c25c-42ad-871e-b41ba472c229",
   "metadata": {},
   "outputs": [],
   "source": []
  }
 ],
 "metadata": {
  "kernelspec": {
   "display_name": "PennyLane",
   "language": "python",
   "name": "pennylane"
  },
  "language_info": {
   "codemirror_mode": {
    "name": "ipython",
    "version": 3
   },
   "file_extension": ".py",
   "mimetype": "text/x-python",
   "name": "python",
   "nbconvert_exporter": "python",
   "pygments_lexer": "ipython3",
   "version": "3.9.15"
  }
 },
 "nbformat": 4,
 "nbformat_minor": 5
}
