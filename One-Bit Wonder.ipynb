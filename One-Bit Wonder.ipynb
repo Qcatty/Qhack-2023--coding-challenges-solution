{
 "cells": [
  {
   "cell_type": "code",
   "execution_count": 121,
   "id": "bb03afba-664c-4f8b-9688-abd948486be9",
   "metadata": {},
   "outputs": [],
   "source": [
    "import json\n",
    "import pennylane as qml\n",
    "import pennylane.numpy as np\n",
    "import scipy"
   ]
  },
  {
   "cell_type": "code",
   "execution_count": 122,
   "id": "a9622e68-5ca4-4a06-ae47-3463ed6b0f10",
   "metadata": {},
   "outputs": [],
   "source": [
    "U_NP = [[1, 0, 0, 0], [0, 0, 0, 1], [0, 1, 0, 0], [0, 0, 1, 0]]\n",
    "\n",
    "def calculate_timbit(U, rho_0, rho, n_iters):\n",
    "    \"\"\"\n",
    "    This function will return a timbit associated to the operator U and a state passed as an attribute.\n",
    "\n",
    "    Args:\n",
    "        U (numpy.tensor): A 2-qubit gate in matrix form.\n",
    "        rho_0 (numpy.tensor): The matrix of the input density matrix.\n",
    "        rho (numpy.tensor): A guess at the fixed point C[rho] = rho.\n",
    "        n_iters (int): The number of iterations of C.\n",
    "\n",
    "    Returns:\n",
    "        (numpy.tensor): The fixed point density matrices.\n",
    "    \"\"\"\n",
    "    dev = qml.device(\"default.mixed\", wires=2)\n",
    "\n",
    "    @qml.qnode(dev)\n",
    "    def circuit(rho_input):\n",
    "        qml.QubitDensityMatrix(rho_input,wires=[0,1])\n",
    "        return qml.density_matrix(wires=[1])\n",
    "    \n",
    "    for _ in range(n_iters):\n",
    "        Total_rho=np.kron(rho_0,rho)\n",
    "        Total_rho=np.dot(U,np.dot(Total_rho,np.transpose(np.conjugate(U))))\n",
    "        rho=circuit(Total_rho)\n",
    "        #print(Total_rho)\n",
    "        #print(rho)\n",
    "    return rho"
   ]
  },
  {
   "cell_type": "code",
   "execution_count": 123,
   "id": "d7e949c2-1897-4357-8f7e-6529726bdbe8",
   "metadata": {},
   "outputs": [],
   "source": [
    "def apply_timbit_gate(U, rho_0, timbit):\n",
    "    \"\"\"\n",
    "    Function that returns the output density matrix after applying a timbit gate to a state.\n",
    "    The density matrix is the one associated with the first qubit.\n",
    "\n",
    "    Args:\n",
    "        U (numpy.tensor): A 2-qubit gate in matrix form.\n",
    "        rho_0 (numpy.tensor): The matrix of the input density matrix.\n",
    "        timbit (numpy.tensor): The timbit associated with the operator and the state.\n",
    "\n",
    "    Returns:\n",
    "        (numpy.tensor): The output density matrices.\n",
    "    \"\"\"\n",
    "    Total_rho=np.kron(rho_0,timbit)\n",
    "    Total_rho=np.dot(U,np.dot(Total_rho,np.transpose(np.conjugate(U))))\n",
    "    \n",
    "    dev = qml.device(\"default.mixed\", wires=2)\n",
    "\n",
    "    @qml.qnode(dev)\n",
    "    def circuit(rho_input):\n",
    "        qml.QubitDensityMatrix(rho_input,wires=[0,1])\n",
    "        return qml.density_matrix(wires=[0])\n",
    "    \n",
    "    return circuit(Total_rho)"
   ]
  },
  {
   "cell_type": "code",
   "execution_count": 131,
   "id": "7aabcd44-2cd0-4e3a-80a4-a994ae4e12c0",
   "metadata": {},
   "outputs": [],
   "source": [
    "def SAT(U_f, q, rho, n_bits):\n",
    "    \"\"\"A timbit-based algorithm used to guess if a Boolean function ever outputs 1.\n",
    "\n",
    "    Args:\n",
    "        U_f (numpy.tensor): A multi-qubit gate in matrix form.\n",
    "        q (int): Number of times we apply the Timbit gate.\n",
    "        rho (numpy.tensor): An initial guess at the fixed point C[rho] = rho.\n",
    "        n_bits (int): The number of bits the Boolean function is defined on.\n",
    "\n",
    "    Returns:\n",
    "        numpy.tensor: The measurement probabilities on the last wire.\n",
    "    \"\"\"\n",
    "    dev = qml.device(\"default.mixed\", wires=4)\n",
    "    @qml.qnode(dev)\n",
    "    def circuit(U_f):\n",
    "        qml.Hadamard(wires=0)\n",
    "        qml.Hadamard(wires=1)\n",
    "        qml.Hadamard(wires=2)\n",
    "        qml.QubitUnitary(U_f,wires=[0,1,2,3])\n",
    "        return qml.density_matrix(wires=[3])\n",
    "    \n",
    "    rho_0=circuit(U_f)\n",
    "    #print(rho_0)\n",
    "    for _ in range(q):\n",
    "        timbit=calculate_timbit(U_NP, rho_0, rho, 10)\n",
    "        rho_0=apply_timbit_gate(U_NP, rho_0, timbit)\n",
    "        \n",
    "    dev = qml.device(\"default.mixed\", wires=1)\n",
    "    @qml.qnode(dev)\n",
    "    def circuit2(rho_f):\n",
    "        qml.QubitDensityMatrix(rho_f,wires=[0])\n",
    "        return qml.probs(wires=[0])\n",
    "    \n",
    "    return circuit2(rho_0)"
   ]
  },
  {
   "cell_type": "code",
   "execution_count": 125,
   "id": "eb86e885-115c-4c27-8aba-29043066d860",
   "metadata": {},
   "outputs": [],
   "source": [
    "# These functions are responsible for testing the solution.\n",
    "def run(test_case_input: str) -> str:\n",
    "\n",
    "    I = np.eye(2)\n",
    "    X = qml.matrix(qml.PauliX(0))\n",
    "\n",
    "    U_f = scipy.linalg.block_diag(I, X, I, I, I, I, I, I)\n",
    "    rho = [[0.6+0.j , 0.1-0.1j],[0.1+0.1j, 0.4+0.j]]\n",
    "\n",
    "    q = json.loads(test_case_input)\n",
    "    output = list(SAT(U_f, q, rho,4))\n",
    "\n",
    "    return str(output)\n",
    "\n",
    "def check(solution_output: str, expected_output: str) -> None:\n",
    "\n",
    "    solution_output = json.loads(solution_output)\n",
    "    expected_output = json.loads(expected_output)\n",
    "\n",
    "    rho = [[0.6+0.j , 0.1-0.1j],[0.1+0.1j, 0.4+0.j]]\n",
    "    rho_0 = [[0.6+0.j , 0.1-0.1j],[0.1+0.1j, 0.4+0.j]]\n",
    "\n",
    "    assert np.allclose(\n",
    "        solution_output, expected_output, atol=0.01\n",
    "    ), \"Your NP-solving timbit computer isn't quite right yet!\""
   ]
  },
  {
   "cell_type": "code",
   "execution_count": 126,
   "id": "77a462c0-e19a-43e2-8b4f-29ba3629d627",
   "metadata": {},
   "outputs": [],
   "source": [
    "test_cases = [['1', '[0.78125, 0.21875]'], ['2', '[0.65820312, 0.34179687]']]"
   ]
  },
  {
   "cell_type": "code",
   "execution_count": 133,
   "id": "2a3689ae-1dca-4f2f-a7ec-219fadba6283",
   "metadata": {},
   "outputs": [
    {
     "name": "stdout",
     "output_type": "stream",
     "text": [
      "Running test case 0 with input '1'...\n",
      "Correct!\n",
      "Running test case 1 with input '2'...\n",
      "Correct!\n"
     ]
    }
   ],
   "source": [
    "for i, (input_, expected_output) in enumerate(test_cases):\n",
    "    print(f\"Running test case {i} with input '{input_}'...\")\n",
    "\n",
    "    try:\n",
    "        output = run(input_)\n",
    "\n",
    "    except Exception as exc:\n",
    "        print(f\"Runtime Error. {exc}\")\n",
    "\n",
    "    else:\n",
    "        if message := check(output, expected_output):\n",
    "            print(f\"Wrong Answer. Have: '{output}'. Want: '{expected_output}'.\")\n",
    "\n",
    "        else:\n",
    "            print(\"Correct!\")"
   ]
  },
  {
   "cell_type": "code",
   "execution_count": 132,
   "id": "aa4f7135-2952-40ab-8d1c-2cf7d1557772",
   "metadata": {},
   "outputs": [
    {
     "data": {
      "text/plain": [
       "array([0.78125, 0.21875])"
      ]
     },
     "execution_count": 132,
     "metadata": {},
     "output_type": "execute_result"
    }
   ],
   "source": [
    "I = np.eye(2)\n",
    "X = qml.matrix(qml.PauliX(0))\n",
    "\n",
    "U_f = scipy.linalg.block_diag(I, I, X, I, I, I, I, I)\n",
    "rho = [[0.6+0.j , 0.1-0.1j],[0.1+0.1j, 0.4+0.j]]\n",
    "SAT(U_f, 1, rho,4)"
   ]
  },
  {
   "cell_type": "code",
   "execution_count": 68,
   "id": "68e33552-1633-4494-a2ca-e1a404b5cb11",
   "metadata": {},
   "outputs": [
    {
     "ename": "ValueError",
     "evalue": "shapes (8,8) and (4,4) not aligned: 8 (dim 1) != 4 (dim 0)",
     "output_type": "error",
     "traceback": [
      "\u001b[0;31m---------------------------------------------------------------------------\u001b[0m",
      "\u001b[0;31mValueError\u001b[0m                                Traceback (most recent call last)",
      "\u001b[0;32m/tmp/ipykernel_89/101718312.py\u001b[0m in \u001b[0;36m<cell line: 2>\u001b[0;34m()\u001b[0m\n\u001b[1;32m      1\u001b[0m \u001b[0mrho_0\u001b[0m\u001b[0;34m=\u001b[0m\u001b[0mnp\u001b[0m\u001b[0;34m.\u001b[0m\u001b[0marray\u001b[0m\u001b[0;34m(\u001b[0m\u001b[0;34m[\u001b[0m\u001b[0;34m[\u001b[0m\u001b[0;36m1\u001b[0m\u001b[0;34m+\u001b[0m\u001b[0;36m0.j\u001b[0m\u001b[0;34m,\u001b[0m \u001b[0;36m0.\u001b[0m   \u001b[0;34m+\u001b[0m\u001b[0;36m0.j\u001b[0m\u001b[0;34m]\u001b[0m\u001b[0;34m,\u001b[0m\u001b[0;34m[\u001b[0m\u001b[0;36m0.\u001b[0m   \u001b[0;34m+\u001b[0m\u001b[0;36m0.j\u001b[0m\u001b[0;34m,\u001b[0m \u001b[0;36m0.\u001b[0m\u001b[0;34m+\u001b[0m\u001b[0;36m0.j\u001b[0m\u001b[0;34m]\u001b[0m\u001b[0;34m]\u001b[0m\u001b[0;34m)\u001b[0m\u001b[0;34m\u001b[0m\u001b[0;34m\u001b[0m\u001b[0m\n\u001b[0;32m----> 2\u001b[0;31m \u001b[0mcalculate_timbit\u001b[0m\u001b[0;34m(\u001b[0m\u001b[0mU_NP\u001b[0m\u001b[0;34m,\u001b[0m \u001b[0mrho_0\u001b[0m\u001b[0;34m,\u001b[0m \u001b[0mrho\u001b[0m\u001b[0;34m,\u001b[0m \u001b[0;36m5\u001b[0m\u001b[0;34m)\u001b[0m\u001b[0;34m\u001b[0m\u001b[0;34m\u001b[0m\u001b[0m\n\u001b[0m",
      "\u001b[0;32m/tmp/ipykernel_89/3956792618.py\u001b[0m in \u001b[0;36mcalculate_timbit\u001b[0;34m(U, rho_0, rho, n_iters)\u001b[0m\n\u001b[1;32m     23\u001b[0m     \u001b[0;32mfor\u001b[0m \u001b[0m_\u001b[0m \u001b[0;32min\u001b[0m \u001b[0mrange\u001b[0m\u001b[0;34m(\u001b[0m\u001b[0mn_iters\u001b[0m\u001b[0;34m)\u001b[0m\u001b[0;34m:\u001b[0m\u001b[0;34m\u001b[0m\u001b[0;34m\u001b[0m\u001b[0m\n\u001b[1;32m     24\u001b[0m         \u001b[0mTotal_rho\u001b[0m\u001b[0;34m=\u001b[0m\u001b[0mnp\u001b[0m\u001b[0;34m.\u001b[0m\u001b[0mkron\u001b[0m\u001b[0;34m(\u001b[0m\u001b[0mrho_0\u001b[0m\u001b[0;34m,\u001b[0m\u001b[0mrho\u001b[0m\u001b[0;34m)\u001b[0m\u001b[0;34m\u001b[0m\u001b[0;34m\u001b[0m\u001b[0m\n\u001b[0;32m---> 25\u001b[0;31m         \u001b[0mTotal_rho\u001b[0m\u001b[0;34m=\u001b[0m\u001b[0mnp\u001b[0m\u001b[0;34m.\u001b[0m\u001b[0mdot\u001b[0m\u001b[0;34m(\u001b[0m\u001b[0mU\u001b[0m\u001b[0;34m,\u001b[0m\u001b[0mnp\u001b[0m\u001b[0;34m.\u001b[0m\u001b[0mdot\u001b[0m\u001b[0;34m(\u001b[0m\u001b[0mTotal_rho\u001b[0m\u001b[0;34m,\u001b[0m\u001b[0mnp\u001b[0m\u001b[0;34m.\u001b[0m\u001b[0mtranspose\u001b[0m\u001b[0;34m(\u001b[0m\u001b[0mnp\u001b[0m\u001b[0;34m.\u001b[0m\u001b[0mconjugate\u001b[0m\u001b[0;34m(\u001b[0m\u001b[0mU\u001b[0m\u001b[0;34m)\u001b[0m\u001b[0;34m)\u001b[0m\u001b[0;34m)\u001b[0m\u001b[0;34m)\u001b[0m\u001b[0;34m\u001b[0m\u001b[0;34m\u001b[0m\u001b[0m\n\u001b[0m\u001b[1;32m     26\u001b[0m         \u001b[0mrho\u001b[0m\u001b[0;34m=\u001b[0m\u001b[0mcircuit\u001b[0m\u001b[0;34m(\u001b[0m\u001b[0mTotal_rho\u001b[0m\u001b[0;34m)\u001b[0m\u001b[0;34m\u001b[0m\u001b[0;34m\u001b[0m\u001b[0m\n\u001b[1;32m     27\u001b[0m         \u001b[0;31m#print(Total_rho)\u001b[0m\u001b[0;34m\u001b[0m\u001b[0;34m\u001b[0m\u001b[0m\n",
      "\u001b[0;32m/opt/conda/envs/pennylane/lib/python3.9/site-packages/pennylane/numpy/wrapper.py\u001b[0m in \u001b[0;36m_wrapped\u001b[0;34m(*args, **kwargs)\u001b[0m\n\u001b[1;32m    115\u001b[0m \u001b[0;34m\u001b[0m\u001b[0m\n\u001b[1;32m    116\u001b[0m         \u001b[0;31m# evaluate the original object\u001b[0m\u001b[0;34m\u001b[0m\u001b[0;34m\u001b[0m\u001b[0m\n\u001b[0;32m--> 117\u001b[0;31m         \u001b[0mres\u001b[0m \u001b[0;34m=\u001b[0m \u001b[0mobj\u001b[0m\u001b[0;34m(\u001b[0m\u001b[0;34m*\u001b[0m\u001b[0margs\u001b[0m\u001b[0;34m,\u001b[0m \u001b[0;34m**\u001b[0m\u001b[0mkwargs\u001b[0m\u001b[0;34m)\u001b[0m\u001b[0;34m\u001b[0m\u001b[0;34m\u001b[0m\u001b[0m\n\u001b[0m\u001b[1;32m    118\u001b[0m \u001b[0;34m\u001b[0m\u001b[0m\n\u001b[1;32m    119\u001b[0m         \u001b[0;32mif\u001b[0m \u001b[0misinstance\u001b[0m\u001b[0;34m(\u001b[0m\u001b[0mres\u001b[0m\u001b[0;34m,\u001b[0m \u001b[0m_np\u001b[0m\u001b[0;34m.\u001b[0m\u001b[0mndarray\u001b[0m\u001b[0;34m)\u001b[0m\u001b[0;34m:\u001b[0m\u001b[0;34m\u001b[0m\u001b[0;34m\u001b[0m\u001b[0m\n",
      "\u001b[0;32m/opt/conda/envs/pennylane/lib/python3.9/site-packages/autograd/tracer.py\u001b[0m in \u001b[0;36mf_wrapped\u001b[0;34m(*args, **kwargs)\u001b[0m\n\u001b[1;32m     46\u001b[0m             \u001b[0;32mreturn\u001b[0m \u001b[0mnew_box\u001b[0m\u001b[0;34m(\u001b[0m\u001b[0mans\u001b[0m\u001b[0;34m,\u001b[0m \u001b[0mtrace\u001b[0m\u001b[0;34m,\u001b[0m \u001b[0mnode\u001b[0m\u001b[0;34m)\u001b[0m\u001b[0;34m\u001b[0m\u001b[0;34m\u001b[0m\u001b[0m\n\u001b[1;32m     47\u001b[0m         \u001b[0;32melse\u001b[0m\u001b[0;34m:\u001b[0m\u001b[0;34m\u001b[0m\u001b[0;34m\u001b[0m\u001b[0m\n\u001b[0;32m---> 48\u001b[0;31m             \u001b[0;32mreturn\u001b[0m \u001b[0mf_raw\u001b[0m\u001b[0;34m(\u001b[0m\u001b[0;34m*\u001b[0m\u001b[0margs\u001b[0m\u001b[0;34m,\u001b[0m \u001b[0;34m**\u001b[0m\u001b[0mkwargs\u001b[0m\u001b[0;34m)\u001b[0m\u001b[0;34m\u001b[0m\u001b[0;34m\u001b[0m\u001b[0m\n\u001b[0m\u001b[1;32m     49\u001b[0m     \u001b[0mf_wrapped\u001b[0m\u001b[0;34m.\u001b[0m\u001b[0mfun\u001b[0m \u001b[0;34m=\u001b[0m \u001b[0mf_raw\u001b[0m\u001b[0;34m\u001b[0m\u001b[0;34m\u001b[0m\u001b[0m\n\u001b[1;32m     50\u001b[0m     \u001b[0mf_wrapped\u001b[0m\u001b[0;34m.\u001b[0m\u001b[0m_is_autograd_primitive\u001b[0m \u001b[0;34m=\u001b[0m \u001b[0;32mTrue\u001b[0m\u001b[0;34m\u001b[0m\u001b[0;34m\u001b[0m\u001b[0m\n",
      "\u001b[0;32m/opt/conda/envs/pennylane/lib/python3.9/site-packages/numpy/core/overrides.py\u001b[0m in \u001b[0;36mdot\u001b[0;34m(*args, **kwargs)\u001b[0m\n",
      "\u001b[0;31mValueError\u001b[0m: shapes (8,8) and (4,4) not aligned: 8 (dim 1) != 4 (dim 0)"
     ]
    }
   ],
   "source": [
    "\n",
    "calculate_timbit(U_NP, rho_0, rho, 5)"
   ]
  },
  {
   "cell_type": "code",
   "execution_count": 34,
   "id": "a7fba481-a5de-44aa-abbc-b66b6410fc98",
   "metadata": {},
   "outputs": [
    {
     "data": {
      "text/plain": [
       "array([[0.875+0.j, 0.   +0.j],\n",
       "       [0.   +0.j, 0.125+0.j]])"
      ]
     },
     "execution_count": 34,
     "metadata": {},
     "output_type": "execute_result"
    }
   ],
   "source": [
    "\n",
    "rho = [[0.6+0.j , 0.1-0.1j],[0.1+0.1j, 0.4+0.j]]\n",
    "calculate_timbit(U_NP, rho_0, rho, 5)"
   ]
  },
  {
   "cell_type": "code",
   "execution_count": 35,
   "id": "461fbb89-df34-4f63-aa23-e711e73a4b2c",
   "metadata": {},
   "outputs": [
    {
     "data": {
      "text/plain": [
       "array([[0.575+0.j   , 0.1  -0.075j],\n",
       "       [0.1  +0.075j, 0.425+0.j   ]])"
      ]
     },
     "execution_count": 35,
     "metadata": {},
     "output_type": "execute_result"
    }
   ],
   "source": [
    "apply_timbit_gate(U_NP, rho_0, rho_0)"
   ]
  },
  {
   "cell_type": "code",
   "execution_count": 37,
   "id": "9b25ffdf-353c-4460-9bc6-9bb569b24fe0",
   "metadata": {},
   "outputs": [
    {
     "data": {
      "text/plain": [
       "array([[1., 0., 0., 0., 0., 0., 0., 0., 0., 0., 0., 0., 0., 0., 0., 0.],\n",
       "       [0., 1., 0., 0., 0., 0., 0., 0., 0., 0., 0., 0., 0., 0., 0., 0.],\n",
       "       [0., 0., 0., 1., 0., 0., 0., 0., 0., 0., 0., 0., 0., 0., 0., 0.],\n",
       "       [0., 0., 1., 0., 0., 0., 0., 0., 0., 0., 0., 0., 0., 0., 0., 0.],\n",
       "       [0., 0., 0., 0., 1., 0., 0., 0., 0., 0., 0., 0., 0., 0., 0., 0.],\n",
       "       [0., 0., 0., 0., 0., 1., 0., 0., 0., 0., 0., 0., 0., 0., 0., 0.],\n",
       "       [0., 0., 0., 0., 0., 0., 1., 0., 0., 0., 0., 0., 0., 0., 0., 0.],\n",
       "       [0., 0., 0., 0., 0., 0., 0., 1., 0., 0., 0., 0., 0., 0., 0., 0.],\n",
       "       [0., 0., 0., 0., 0., 0., 0., 0., 1., 0., 0., 0., 0., 0., 0., 0.],\n",
       "       [0., 0., 0., 0., 0., 0., 0., 0., 0., 1., 0., 0., 0., 0., 0., 0.],\n",
       "       [0., 0., 0., 0., 0., 0., 0., 0., 0., 0., 1., 0., 0., 0., 0., 0.],\n",
       "       [0., 0., 0., 0., 0., 0., 0., 0., 0., 0., 0., 1., 0., 0., 0., 0.],\n",
       "       [0., 0., 0., 0., 0., 0., 0., 0., 0., 0., 0., 0., 1., 0., 0., 0.],\n",
       "       [0., 0., 0., 0., 0., 0., 0., 0., 0., 0., 0., 0., 0., 1., 0., 0.],\n",
       "       [0., 0., 0., 0., 0., 0., 0., 0., 0., 0., 0., 0., 0., 0., 1., 0.],\n",
       "       [0., 0., 0., 0., 0., 0., 0., 0., 0., 0., 0., 0., 0., 0., 0., 1.]])"
      ]
     },
     "execution_count": 37,
     "metadata": {},
     "output_type": "execute_result"
    }
   ],
   "source": [
    "U_f"
   ]
  },
  {
   "cell_type": "code",
   "execution_count": 81,
   "id": "6cfd6479-3165-404e-adcd-f8a4231a0d0c",
   "metadata": {},
   "outputs": [],
   "source": [
    "Total_rho=np.kron(rho_0,rho)"
   ]
  },
  {
   "cell_type": "code",
   "execution_count": 82,
   "id": "b21c6591-e64f-4e99-a659-24e5151941e8",
   "metadata": {},
   "outputs": [],
   "source": [
    "total=rho=np.dot(U_NP,np.dot(Total_rho,np.transpose(np.conjugate(U_NP))))"
   ]
  },
  {
   "cell_type": "code",
   "execution_count": 95,
   "id": "c0b40f76-d574-46cf-9742-ec1db7ed4f92",
   "metadata": {},
   "outputs": [],
   "source": [
    "rho_0=np.array([[0.875+0.j, 0.   +0.j],[0.   +0.j, 0.125+0.j]])"
   ]
  },
  {
   "cell_type": "code",
   "execution_count": 96,
   "id": "2bdbe7f9-c74d-4bef-9571-91741f51bd4c",
   "metadata": {},
   "outputs": [],
   "source": [
    "dev = qml.device(\"default.mixed\", wires=2)\n",
    "\n",
    "@qml.qnode(dev)\n",
    "def circuit(rho_input):\n",
    "    qml.QubitDensityMatrix(rho_input,wires=[0,1])\n",
    "    return qml.density_matrix(wires=[1])"
   ]
  },
  {
   "cell_type": "code",
   "execution_count": 97,
   "id": "468313c5-4320-40a1-a500-0566b596d0fd",
   "metadata": {},
   "outputs": [
    {
     "data": {
      "text/plain": [
       "array([[1.+0.j, 0.+0.j],\n",
       "       [0.+0.j, 0.+0.j]])"
      ]
     },
     "execution_count": 97,
     "metadata": {},
     "output_type": "execute_result"
    }
   ],
   "source": [
    "circuit(total)"
   ]
  },
  {
   "cell_type": "code",
   "execution_count": 98,
   "id": "fc13e19f-1aca-4e62-a45e-27702e57042f",
   "metadata": {},
   "outputs": [],
   "source": [
    "Total_rho=np.kron(rho_0,rho_0)\n",
    "Total_rho=np.dot(U_NP,np.dot(Total_rho,np.transpose(np.conjugate(U_NP))))"
   ]
  },
  {
   "cell_type": "code",
   "execution_count": 99,
   "id": "5564ef82-2555-49ce-a007-ffae336a5734",
   "metadata": {},
   "outputs": [],
   "source": [
    "dev = qml.device(\"default.mixed\", wires=2)\n",
    "\n",
    "@qml.qnode(dev)\n",
    "def circuit(rho_input):\n",
    "    qml.QubitDensityMatrix(rho_input,wires=[0,1])\n",
    "    return qml.density_matrix(wires=[0])"
   ]
  },
  {
   "cell_type": "code",
   "execution_count": 100,
   "id": "8a03e09b-179f-46f7-af71-19459559fcbd",
   "metadata": {},
   "outputs": [
    {
     "data": {
      "text/plain": [
       "array([[0.78125+0.j, 0.     +0.j],\n",
       "       [0.     +0.j, 0.21875+0.j]])"
      ]
     },
     "execution_count": 100,
     "metadata": {},
     "output_type": "execute_result"
    }
   ],
   "source": [
    "circuit(Total_rho)"
   ]
  },
  {
   "cell_type": "code",
   "execution_count": 128,
   "id": "c6e1ae67-541f-4191-b026-bbb6222d5c8b",
   "metadata": {},
   "outputs": [
    {
     "data": {
      "text/plain": [
       "1"
      ]
     },
     "execution_count": 128,
     "metadata": {},
     "output_type": "execute_result"
    }
   ],
   "source": [
    "json.loads('1')"
   ]
  },
  {
   "cell_type": "code",
   "execution_count": null,
   "id": "652bb53d-eea4-4f48-b627-c122dd80a8f4",
   "metadata": {},
   "outputs": [],
   "source": []
  }
 ],
 "metadata": {
  "kernelspec": {
   "display_name": "PennyLane",
   "language": "python",
   "name": "pennylane"
  },
  "language_info": {
   "codemirror_mode": {
    "name": "ipython",
    "version": 3
   },
   "file_extension": ".py",
   "mimetype": "text/x-python",
   "name": "python",
   "nbconvert_exporter": "python",
   "pygments_lexer": "ipython3",
   "version": "3.9.15"
  }
 },
 "nbformat": 4,
 "nbformat_minor": 5
}
