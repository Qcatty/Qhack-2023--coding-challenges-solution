{
 "cells": [
  {
   "cell_type": "code",
   "execution_count": 1,
   "id": "65b96481-188e-489a-bb5d-e9813e20c053",
   "metadata": {},
   "outputs": [],
   "source": [
    "import json\n",
    "import pennylane as qml\n",
    "import pennylane.numpy as np\n"
   ]
  },
  {
   "cell_type": "code",
   "execution_count": 2,
   "id": "8eebb2e8-38ad-476d-9d99-4f454953b172",
   "metadata": {},
   "outputs": [],
   "source": [
    "def hydrogen_hamiltonian(coordinates, charge):\n",
    "    \"\"\"Calculates the qubit Hamiltonian of the hydrogen molecule.\n",
    "    \n",
    "    Args:\n",
    "        coordinates (list(float)): Cartesian coordinates of each hydrogen molecule.\n",
    "        charge (int): The electric charge given to the hydrogen molecule.\n",
    "\n",
    "    Returns:\n",
    "        (qml.Hamiltonian): A PennyLane Hamiltonian.\n",
    "    \"\"\"\n",
    "    return qml.qchem.molecular_hamiltonian(\n",
    "        [\"H\", \"H\"], coordinates, charge, basis=\"STO-3G\"\n",
    "    )[0]\n",
    "\n",
    "def num_electrons(charge):\n",
    "    \"\"\"The total number of electrons in the hydrogen molecule.\n",
    "    \n",
    "    Args:\n",
    "        charge (int): The electric charge given to the hydrogen molecule.\n",
    "\n",
    "    Returns: \n",
    "        (int): The number of electrons.\n",
    "    \"\"\"\n",
    "    return 2-charge\n",
    "    "
   ]
  },
  {
   "cell_type": "code",
   "execution_count": 3,
   "id": "0e9baadc-d302-4f62-b5c6-198ea8be404c",
   "metadata": {},
   "outputs": [],
   "source": [
    "# These functions are responsible for testing the solution.\n",
    "def run(test_case_input: str) -> str:\n",
    "    ins = json.loads(test_case_input)\n",
    "    state, subsystem, wires = ins\n",
    "    state = np.array(state)\n",
    "    output = is_product(state, subsystem, wires)\n",
    "    return output\n",
    "\n",
    "def check(solution_output: str, expected_output: str) -> None:\n",
    "    assert solution_output == expected_output"
   ]
  },
  {
   "cell_type": "code",
   "execution_count": 4,
   "id": "2b77cc96-a640-4983-b577-7101eb752027",
   "metadata": {},
   "outputs": [],
   "source": [
    "def hf(electrons, num_qubits):\n",
    "    \"\"\"Calculates the Hartree-Fock state of the hydrogen molecule.\n",
    "    \n",
    "    Args:\n",
    "        electrons (int): The number of electrons in the hydrogen molecule.\n",
    "        num_qubits (int): The number of qubits needed to represent the hydrogen molecule Hamiltonian.\n",
    "\n",
    "    Returns:\n",
    "        (numpy.tensor): The HF state.\n",
    "    \"\"\"\n",
    "    return qml.qchem.hf_state(electrons=electrons, orbitals=num_qubits)"
   ]
  },
  {
   "cell_type": "code",
   "execution_count": 20,
   "id": "21ee75ce-5d5b-4570-a7e2-92f4fa246d53",
   "metadata": {},
   "outputs": [],
   "source": [
    "def run_VQE(coordinates, charge):\n",
    "    \"\"\"Performs a VQE routine for the given hydrogen molecule.\n",
    "\n",
    "    Args:\n",
    "        coordinates (list(float)): Cartesian coordinates of each hydrogen molecule.\n",
    "        charge (int): The electric charge given to the hydrogen molecule.:\n",
    "\n",
    "    Returns:\n",
    "        (float): The expectation value of the hydrogen Hamiltonian.\n",
    "    \"\"\"\n",
    "\n",
    "    hamiltonian = hydrogen_hamiltonian(np.array(coordinates), charge)\n",
    "\n",
    "    electrons = num_electrons(charge)\n",
    "    num_qubits = len(hamiltonian.wires)\n",
    "\n",
    "    hf_state = hf(electrons, num_qubits)\n",
    "    # singles and doubles are used to make the AllSinglesDoubles template\n",
    "    singles, doubles = qml.qchem.excitations(electrons, num_qubits)\n",
    "    \n",
    "    print(num_qubits,len(singles))\n",
    "\n",
    "    dev = qml.device(\"default.qubit\", wires=num_qubits)\n",
    "\n",
    "    @qml.qnode(dev)\n",
    "    def cost(weights):\n",
    "        \"\"\"A circuit with tunable parameters/weights that measures the expectation value of the hydrogen Hamiltonian.\n",
    "        \n",
    "        Args:\n",
    "            weights (numpy.array): An array of tunable parameters.\n",
    "\n",
    "        Returns:\n",
    "            (float): The expectation value of the hydrogen Hamiltonian.\n",
    "            \n",
    "        \"\"\"\n",
    "        #state=np.array([0]*(num_qubits//2)+[1]*(num_qubits//2))\n",
    "        qml.BasisState(hf_state, wires=list(range(num_qubits)))\n",
    "\n",
    "        for i in range(len(singles)):\n",
    "            #for j in range(E_len):\n",
    "            qml.SingleExcitation(weights[i], wires=singles[i])\n",
    "\n",
    "        for i in range(len(doubles)):\n",
    "            qml.DoubleExcitation(weights[i+len(singles)], wires=doubles[i])\n",
    "        \n",
    "        return qml.expval(hamiltonian)\n",
    "    \n",
    "    np.random.seed = 1234\n",
    "    weights = np.random.normal(\n",
    "        0, np.pi, len(singles) + len(doubles), requires_grad=True\n",
    "    )\n",
    "    opt = qml.AdamOptimizer(0.5)\n",
    "\n",
    "    for _ in range(200):\n",
    "        weights = opt.step(cost, weights)\n",
    "\n",
    "    return cost(weights)"
   ]
  },
  {
   "cell_type": "code",
   "execution_count": 21,
   "id": "493f1ebd-c4da-4c90-8741-c999355a6924",
   "metadata": {},
   "outputs": [],
   "source": [
    "def run(test_case_input: str) -> str:\n",
    "    coordinates, charge = json.loads(test_case_input)\n",
    "    energy = run_VQE(coordinates, charge)\n",
    "\n",
    "    return str(energy)\n",
    "\n",
    "def check(solution_output: str, expected_output: str) -> None:\n",
    "    solution_output = json.loads(solution_output)\n",
    "    expected_output = json.loads(expected_output)\n",
    "    assert np.allclose(solution_output, expected_output, rtol=1e-3)"
   ]
  },
  {
   "cell_type": "code",
   "execution_count": 22,
   "id": "75cb08b5-dede-4d98-928c-0084c9b1d931",
   "metadata": {},
   "outputs": [],
   "source": [
    "test_cases = [['[[0.0, 0.0, -0.8, 0.0, 0.0, 0.8], -1]', '-0.53168359'], ['[[0.0, 0.0, -0.6614, 0.0, 0.0, 0.6614], 0]', '-1.13618883']]"
   ]
  },
  {
   "cell_type": "code",
   "execution_count": 23,
   "id": "90733412-0186-4de4-a743-17a54bf5b228",
   "metadata": {},
   "outputs": [
    {
     "name": "stdout",
     "output_type": "stream",
     "text": [
      "Running test case 0 with input '[[0.0, 0.0, -0.8, 0.0, 0.0, 0.8], -1]'...\n",
      "4 1\n",
      "Correct!\n",
      "Running test case 1 with input '[[0.0, 0.0, -0.6614, 0.0, 0.0, 0.6614], 0]'...\n",
      "4 2\n",
      "Correct!\n"
     ]
    }
   ],
   "source": [
    "for i, (input_, expected_output) in enumerate(test_cases):\n",
    "    print(f\"Running test case {i} with input '{input_}'...\")\n",
    "\n",
    "    try:\n",
    "        output = run(input_)\n",
    "\n",
    "    except Exception as exc:\n",
    "        print(f\"Runtime Error. {exc}\")\n",
    "\n",
    "    else:\n",
    "        if message := check(output, expected_output):\n",
    "            print(f\"Wrong Answer. Have: '{output}'. Want: '{expected_output}'.\")\n",
    "\n",
    "        else:\n",
    "            print(\"Correct!\")"
   ]
  },
  {
   "cell_type": "code",
   "execution_count": 19,
   "id": "48730fbf-da7b-4526-b9a3-860a6a12abcc",
   "metadata": {},
   "outputs": [
    {
     "name": "stdout",
     "output_type": "stream",
     "text": [
      "4 1\n"
     ]
    },
    {
     "data": {
      "text/plain": [
       "tensor(-0.45318476, requires_grad=True)"
      ]
     },
     "execution_count": 19,
     "metadata": {},
     "output_type": "execute_result"
    }
   ],
   "source": [
    "run_VQE([0.0, 0.0, -0.8, 0.0, 0.0, 0.8], -1)"
   ]
  },
  {
   "cell_type": "code",
   "execution_count": null,
   "id": "a2d146cd-0425-4342-ad55-69e7496442a3",
   "metadata": {},
   "outputs": [],
   "source": []
  }
 ],
 "metadata": {
  "kernelspec": {
   "display_name": "PennyLane",
   "language": "python",
   "name": "pennylane"
  },
  "language_info": {
   "codemirror_mode": {
    "name": "ipython",
    "version": 3
   },
   "file_extension": ".py",
   "mimetype": "text/x-python",
   "name": "python",
   "nbconvert_exporter": "python",
   "pygments_lexer": "ipython3",
   "version": "3.9.15"
  }
 },
 "nbformat": 4,
 "nbformat_minor": 5
}
